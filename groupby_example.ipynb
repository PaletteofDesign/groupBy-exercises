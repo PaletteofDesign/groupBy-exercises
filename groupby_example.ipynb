{
 "cells": [
  {
   "cell_type": "code",
   "execution_count": 1,
   "outputs": [],
   "source": [
    "# Import libraries\n",
    "import pandas as pd"
   ],
   "metadata": {
    "collapsed": false,
    "pycharm": {
     "name": "#%%\n"
    }
   }
  },
  {
   "cell_type": "code",
   "execution_count": 2,
   "outputs": [
    {
     "data": {
      "text/plain": "   0         1         2  3\n0  7  07/24/05  00:00:00  0\n1  9  07/24/05  00:00:00  0\n2  7  07/24/05  00:30:00  1\n3  9  07/24/05  00:30:00  0\n4  7  07/24/05  01:00:00  0",
      "text/html": "<div>\n<style scoped>\n    .dataframe tbody tr th:only-of-type {\n        vertical-align: middle;\n    }\n\n    .dataframe tbody tr th {\n        vertical-align: top;\n    }\n\n    .dataframe thead th {\n        text-align: right;\n    }\n</style>\n<table border=\"1\" class=\"dataframe\">\n  <thead>\n    <tr style=\"text-align: right;\">\n      <th></th>\n      <th>0</th>\n      <th>1</th>\n      <th>2</th>\n      <th>3</th>\n    </tr>\n  </thead>\n  <tbody>\n    <tr>\n      <th>0</th>\n      <td>7</td>\n      <td>07/24/05</td>\n      <td>00:00:00</td>\n      <td>0</td>\n    </tr>\n    <tr>\n      <th>1</th>\n      <td>9</td>\n      <td>07/24/05</td>\n      <td>00:00:00</td>\n      <td>0</td>\n    </tr>\n    <tr>\n      <th>2</th>\n      <td>7</td>\n      <td>07/24/05</td>\n      <td>00:30:00</td>\n      <td>1</td>\n    </tr>\n    <tr>\n      <th>3</th>\n      <td>9</td>\n      <td>07/24/05</td>\n      <td>00:30:00</td>\n      <td>0</td>\n    </tr>\n    <tr>\n      <th>4</th>\n      <td>7</td>\n      <td>07/24/05</td>\n      <td>01:00:00</td>\n      <td>0</td>\n    </tr>\n  </tbody>\n</table>\n</div>"
     },
     "execution_count": 2,
     "metadata": {},
     "output_type": "execute_result"
    }
   ],
   "source": [
    "# Importing data and creating the dataframe\n",
    "url = 'https://raw.githubusercontent.com/mGalarnyk/Tutorial_Data/master/Pandas/CalIt2.data'\n",
    "df = pd.read_csv(url, header=None)\n",
    "df.head()"
   ],
   "metadata": {
    "collapsed": false,
    "pycharm": {
     "name": "#%%\n"
    }
   }
  },
  {
   "cell_type": "code",
   "execution_count": 3,
   "outputs": [
    {
     "data": {
      "text/plain": "   Flow_ID      Date      Time  Count\n0        7  07/24/05  00:00:00      0\n1        9  07/24/05  00:00:00      0\n2        7  07/24/05  00:30:00      1\n3        9  07/24/05  00:30:00      0\n4        7  07/24/05  01:00:00      0",
      "text/html": "<div>\n<style scoped>\n    .dataframe tbody tr th:only-of-type {\n        vertical-align: middle;\n    }\n\n    .dataframe tbody tr th {\n        vertical-align: top;\n    }\n\n    .dataframe thead th {\n        text-align: right;\n    }\n</style>\n<table border=\"1\" class=\"dataframe\">\n  <thead>\n    <tr style=\"text-align: right;\">\n      <th></th>\n      <th>Flow_ID</th>\n      <th>Date</th>\n      <th>Time</th>\n      <th>Count</th>\n    </tr>\n  </thead>\n  <tbody>\n    <tr>\n      <th>0</th>\n      <td>7</td>\n      <td>07/24/05</td>\n      <td>00:00:00</td>\n      <td>0</td>\n    </tr>\n    <tr>\n      <th>1</th>\n      <td>9</td>\n      <td>07/24/05</td>\n      <td>00:00:00</td>\n      <td>0</td>\n    </tr>\n    <tr>\n      <th>2</th>\n      <td>7</td>\n      <td>07/24/05</td>\n      <td>00:30:00</td>\n      <td>1</td>\n    </tr>\n    <tr>\n      <th>3</th>\n      <td>9</td>\n      <td>07/24/05</td>\n      <td>00:30:00</td>\n      <td>0</td>\n    </tr>\n    <tr>\n      <th>4</th>\n      <td>7</td>\n      <td>07/24/05</td>\n      <td>01:00:00</td>\n      <td>0</td>\n    </tr>\n  </tbody>\n</table>\n</div>"
     },
     "execution_count": 3,
     "metadata": {},
     "output_type": "execute_result"
    }
   ],
   "source": [
    "# Renaming the columns\n",
    "df.rename(columns={0:'Flow_ID', 1:'Date', 2:'Time', 3:'Count'}, inplace=True)\n",
    "df.head()"
   ],
   "metadata": {
    "collapsed": false,
    "pycharm": {
     "name": "#%%\n"
    }
   }
  },
  {
   "cell_type": "code",
   "execution_count": 4,
   "outputs": [
    {
     "data": {
      "text/plain": "   Flow_ID      Date      Time  Count\n0        7  07/24/05  00:00:00      0\n2        7  07/24/05  00:30:00      1\n4        7  07/24/05  01:00:00      0\n6        7  07/24/05  01:30:00      0\n8        7  07/24/05  02:00:00      0",
      "text/html": "<div>\n<style scoped>\n    .dataframe tbody tr th:only-of-type {\n        vertical-align: middle;\n    }\n\n    .dataframe tbody tr th {\n        vertical-align: top;\n    }\n\n    .dataframe thead th {\n        text-align: right;\n    }\n</style>\n<table border=\"1\" class=\"dataframe\">\n  <thead>\n    <tr style=\"text-align: right;\">\n      <th></th>\n      <th>Flow_ID</th>\n      <th>Date</th>\n      <th>Time</th>\n      <th>Count</th>\n    </tr>\n  </thead>\n  <tbody>\n    <tr>\n      <th>0</th>\n      <td>7</td>\n      <td>07/24/05</td>\n      <td>00:00:00</td>\n      <td>0</td>\n    </tr>\n    <tr>\n      <th>2</th>\n      <td>7</td>\n      <td>07/24/05</td>\n      <td>00:30:00</td>\n      <td>1</td>\n    </tr>\n    <tr>\n      <th>4</th>\n      <td>7</td>\n      <td>07/24/05</td>\n      <td>01:00:00</td>\n      <td>0</td>\n    </tr>\n    <tr>\n      <th>6</th>\n      <td>7</td>\n      <td>07/24/05</td>\n      <td>01:30:00</td>\n      <td>0</td>\n    </tr>\n    <tr>\n      <th>8</th>\n      <td>7</td>\n      <td>07/24/05</td>\n      <td>02:00:00</td>\n      <td>0</td>\n    </tr>\n  </tbody>\n</table>\n</div>"
     },
     "execution_count": 4,
     "metadata": {},
     "output_type": "execute_result"
    }
   ],
   "source": [
    "# Creating a filter to obtain certain data\n",
    "d_filter = (df['Date']=='07/24/05') & (df['Flow_ID']==7)\n",
    "df[d_filter].head()"
   ],
   "metadata": {
    "collapsed": false,
    "pycharm": {
     "name": "#%%\n"
    }
   }
  },
  {
   "cell_type": "code",
   "execution_count": 5,
   "outputs": [
    {
     "data": {
      "text/plain": "10080"
     },
     "execution_count": 5,
     "metadata": {},
     "output_type": "execute_result"
    }
   ],
   "source": [
    "# Showing the length of the dataframe\n",
    "len(df)"
   ],
   "metadata": {
    "collapsed": false,
    "pycharm": {
     "name": "#%%\n"
    }
   }
  },
  {
   "cell_type": "code",
   "execution_count": 6,
   "outputs": [
    {
     "data": {
      "text/plain": "48"
     },
     "execution_count": 6,
     "metadata": {},
     "output_type": "execute_result"
    }
   ],
   "source": [
    "# Length with filter\n",
    "len(df[d_filter])"
   ],
   "metadata": {
    "collapsed": false,
    "pycharm": {
     "name": "#%%\n"
    }
   }
  },
  {
   "cell_type": "code",
   "execution_count": 7,
   "outputs": [
    {
     "data": {
      "text/plain": "    Flow_ID      Date      Time  Count\n72        7  07/24/05  18:00:00      4\n84        7  07/24/05  21:00:00      3\n76        7  07/24/05  19:00:00      2\n92        7  07/24/05  23:00:00      2\n30        7  07/24/05  07:30:00      2\n10        7  07/24/05  02:30:00      2\n86        7  07/24/05  21:30:00      2\n70        7  07/24/05  17:30:00      2\n68        7  07/24/05  17:00:00      1\n74        7  07/24/05  18:30:00      1",
      "text/html": "<div>\n<style scoped>\n    .dataframe tbody tr th:only-of-type {\n        vertical-align: middle;\n    }\n\n    .dataframe tbody tr th {\n        vertical-align: top;\n    }\n\n    .dataframe thead th {\n        text-align: right;\n    }\n</style>\n<table border=\"1\" class=\"dataframe\">\n  <thead>\n    <tr style=\"text-align: right;\">\n      <th></th>\n      <th>Flow_ID</th>\n      <th>Date</th>\n      <th>Time</th>\n      <th>Count</th>\n    </tr>\n  </thead>\n  <tbody>\n    <tr>\n      <th>72</th>\n      <td>7</td>\n      <td>07/24/05</td>\n      <td>18:00:00</td>\n      <td>4</td>\n    </tr>\n    <tr>\n      <th>84</th>\n      <td>7</td>\n      <td>07/24/05</td>\n      <td>21:00:00</td>\n      <td>3</td>\n    </tr>\n    <tr>\n      <th>76</th>\n      <td>7</td>\n      <td>07/24/05</td>\n      <td>19:00:00</td>\n      <td>2</td>\n    </tr>\n    <tr>\n      <th>92</th>\n      <td>7</td>\n      <td>07/24/05</td>\n      <td>23:00:00</td>\n      <td>2</td>\n    </tr>\n    <tr>\n      <th>30</th>\n      <td>7</td>\n      <td>07/24/05</td>\n      <td>07:30:00</td>\n      <td>2</td>\n    </tr>\n    <tr>\n      <th>10</th>\n      <td>7</td>\n      <td>07/24/05</td>\n      <td>02:30:00</td>\n      <td>2</td>\n    </tr>\n    <tr>\n      <th>86</th>\n      <td>7</td>\n      <td>07/24/05</td>\n      <td>21:30:00</td>\n      <td>2</td>\n    </tr>\n    <tr>\n      <th>70</th>\n      <td>7</td>\n      <td>07/24/05</td>\n      <td>17:30:00</td>\n      <td>2</td>\n    </tr>\n    <tr>\n      <th>68</th>\n      <td>7</td>\n      <td>07/24/05</td>\n      <td>17:00:00</td>\n      <td>1</td>\n    </tr>\n    <tr>\n      <th>74</th>\n      <td>7</td>\n      <td>07/24/05</td>\n      <td>18:30:00</td>\n      <td>1</td>\n    </tr>\n  </tbody>\n</table>\n</div>"
     },
     "execution_count": 7,
     "metadata": {},
     "output_type": "execute_result"
    }
   ],
   "source": [
    "# Obtaining the top 10\n",
    "top_10 = df.loc[d_filter, :].sort_values(by=['Count'], ascending=False).head(10)\n",
    "top_10"
   ],
   "metadata": {
    "collapsed": false,
    "pycharm": {
     "name": "#%%\n"
    }
   }
  },
  {
   "cell_type": "code",
   "execution_count": 8,
   "outputs": [
    {
     "data": {
      "text/plain": "1"
     },
     "execution_count": 8,
     "metadata": {},
     "output_type": "execute_result"
    }
   ],
   "source": [
    "# Obtaining the minimun value in teh top 10\n",
    "min_val = top_10['Count'].min()\n",
    "min_val"
   ],
   "metadata": {
    "collapsed": false,
    "pycharm": {
     "name": "#%%\n"
    }
   }
  },
  {
   "cell_type": "code",
   "execution_count": 9,
   "outputs": [
    {
     "data": {
      "text/plain": "1.1"
     },
     "execution_count": 9,
     "metadata": {},
     "output_type": "execute_result"
    }
   ],
   "source": [
    "top_10['Count'].apply(lambda x: x - min_val).mean()"
   ],
   "metadata": {
    "collapsed": false,
    "pycharm": {
     "name": "#%%\n"
    }
   }
  },
  {
   "cell_type": "code",
   "execution_count": 10,
   "outputs": [],
   "source": [
    "# Creating another filter with the below parameters\n",
    "d_filter = (df['Flow_ID']==7) & (df['Date'].str.startswith('08') & df['Date'].str.endswith('05'))"
   ],
   "metadata": {
    "collapsed": false,
    "pycharm": {
     "name": "#%%\n"
    }
   }
  },
  {
   "cell_type": "code",
   "execution_count": 11,
   "outputs": [
    {
     "data": {
      "text/plain": "          Flow_ID      Time  Count\nDate                              \n08/01/05        7  23:30:00     18\n08/02/05        7  23:30:00     16\n08/03/05        7  23:30:00     26\n08/04/05        7  23:30:00     40\n08/05/05        7  23:30:00     17\n08/06/05        7  23:30:00      8\n08/07/05        7  23:30:00      3\n08/08/05        7  23:30:00     16\n08/09/05        7  23:30:00     19\n08/10/05        7  23:30:00     25\n08/11/05        7  23:30:00     16\n08/12/05        7  23:30:00     21\n08/13/05        7  23:30:00      5\n08/14/05        7  23:30:00      3\n08/15/05        7  23:30:00     17\n08/16/05        7  23:30:00     24\n08/17/05        7  23:30:00     22\n08/18/05        7  23:30:00     39\n08/19/05        7  23:30:00     23\n08/20/05        7  23:30:00      3\n08/21/05        7  23:30:00      4\n08/22/05        7  23:30:00     23\n08/23/05        7  23:30:00     25\n08/24/05        7  23:30:00     17\n08/25/05        7  23:30:00     24\n08/26/05        7  23:30:00     22\n08/27/05        7  23:30:00      3\n08/28/05        7  23:30:00      7\n08/29/05        7  23:30:00     15\n08/30/05        7  23:30:00     47\n08/31/05        7  23:30:00     19",
      "text/html": "<div>\n<style scoped>\n    .dataframe tbody tr th:only-of-type {\n        vertical-align: middle;\n    }\n\n    .dataframe tbody tr th {\n        vertical-align: top;\n    }\n\n    .dataframe thead th {\n        text-align: right;\n    }\n</style>\n<table border=\"1\" class=\"dataframe\">\n  <thead>\n    <tr style=\"text-align: right;\">\n      <th></th>\n      <th>Flow_ID</th>\n      <th>Time</th>\n      <th>Count</th>\n    </tr>\n    <tr>\n      <th>Date</th>\n      <th></th>\n      <th></th>\n      <th></th>\n    </tr>\n  </thead>\n  <tbody>\n    <tr>\n      <th>08/01/05</th>\n      <td>7</td>\n      <td>23:30:00</td>\n      <td>18</td>\n    </tr>\n    <tr>\n      <th>08/02/05</th>\n      <td>7</td>\n      <td>23:30:00</td>\n      <td>16</td>\n    </tr>\n    <tr>\n      <th>08/03/05</th>\n      <td>7</td>\n      <td>23:30:00</td>\n      <td>26</td>\n    </tr>\n    <tr>\n      <th>08/04/05</th>\n      <td>7</td>\n      <td>23:30:00</td>\n      <td>40</td>\n    </tr>\n    <tr>\n      <th>08/05/05</th>\n      <td>7</td>\n      <td>23:30:00</td>\n      <td>17</td>\n    </tr>\n    <tr>\n      <th>08/06/05</th>\n      <td>7</td>\n      <td>23:30:00</td>\n      <td>8</td>\n    </tr>\n    <tr>\n      <th>08/07/05</th>\n      <td>7</td>\n      <td>23:30:00</td>\n      <td>3</td>\n    </tr>\n    <tr>\n      <th>08/08/05</th>\n      <td>7</td>\n      <td>23:30:00</td>\n      <td>16</td>\n    </tr>\n    <tr>\n      <th>08/09/05</th>\n      <td>7</td>\n      <td>23:30:00</td>\n      <td>19</td>\n    </tr>\n    <tr>\n      <th>08/10/05</th>\n      <td>7</td>\n      <td>23:30:00</td>\n      <td>25</td>\n    </tr>\n    <tr>\n      <th>08/11/05</th>\n      <td>7</td>\n      <td>23:30:00</td>\n      <td>16</td>\n    </tr>\n    <tr>\n      <th>08/12/05</th>\n      <td>7</td>\n      <td>23:30:00</td>\n      <td>21</td>\n    </tr>\n    <tr>\n      <th>08/13/05</th>\n      <td>7</td>\n      <td>23:30:00</td>\n      <td>5</td>\n    </tr>\n    <tr>\n      <th>08/14/05</th>\n      <td>7</td>\n      <td>23:30:00</td>\n      <td>3</td>\n    </tr>\n    <tr>\n      <th>08/15/05</th>\n      <td>7</td>\n      <td>23:30:00</td>\n      <td>17</td>\n    </tr>\n    <tr>\n      <th>08/16/05</th>\n      <td>7</td>\n      <td>23:30:00</td>\n      <td>24</td>\n    </tr>\n    <tr>\n      <th>08/17/05</th>\n      <td>7</td>\n      <td>23:30:00</td>\n      <td>22</td>\n    </tr>\n    <tr>\n      <th>08/18/05</th>\n      <td>7</td>\n      <td>23:30:00</td>\n      <td>39</td>\n    </tr>\n    <tr>\n      <th>08/19/05</th>\n      <td>7</td>\n      <td>23:30:00</td>\n      <td>23</td>\n    </tr>\n    <tr>\n      <th>08/20/05</th>\n      <td>7</td>\n      <td>23:30:00</td>\n      <td>3</td>\n    </tr>\n    <tr>\n      <th>08/21/05</th>\n      <td>7</td>\n      <td>23:30:00</td>\n      <td>4</td>\n    </tr>\n    <tr>\n      <th>08/22/05</th>\n      <td>7</td>\n      <td>23:30:00</td>\n      <td>23</td>\n    </tr>\n    <tr>\n      <th>08/23/05</th>\n      <td>7</td>\n      <td>23:30:00</td>\n      <td>25</td>\n    </tr>\n    <tr>\n      <th>08/24/05</th>\n      <td>7</td>\n      <td>23:30:00</td>\n      <td>17</td>\n    </tr>\n    <tr>\n      <th>08/25/05</th>\n      <td>7</td>\n      <td>23:30:00</td>\n      <td>24</td>\n    </tr>\n    <tr>\n      <th>08/26/05</th>\n      <td>7</td>\n      <td>23:30:00</td>\n      <td>22</td>\n    </tr>\n    <tr>\n      <th>08/27/05</th>\n      <td>7</td>\n      <td>23:30:00</td>\n      <td>3</td>\n    </tr>\n    <tr>\n      <th>08/28/05</th>\n      <td>7</td>\n      <td>23:30:00</td>\n      <td>7</td>\n    </tr>\n    <tr>\n      <th>08/29/05</th>\n      <td>7</td>\n      <td>23:30:00</td>\n      <td>15</td>\n    </tr>\n    <tr>\n      <th>08/30/05</th>\n      <td>7</td>\n      <td>23:30:00</td>\n      <td>47</td>\n    </tr>\n    <tr>\n      <th>08/31/05</th>\n      <td>7</td>\n      <td>23:30:00</td>\n      <td>19</td>\n    </tr>\n  </tbody>\n</table>\n</div>"
     },
     "execution_count": 11,
     "metadata": {},
     "output_type": "execute_result"
    }
   ],
   "source": [
    "# Grouping by the date including the filtered data\n",
    "df.loc[d_filter,:].groupby('Date').max()"
   ],
   "metadata": {
    "collapsed": false,
    "pycharm": {
     "name": "#%%\n"
    }
   }
  },
  {
   "cell_type": "code",
   "execution_count": null,
   "outputs": [],
   "source": [],
   "metadata": {
    "collapsed": false,
    "pycharm": {
     "name": "#%%\n"
    }
   }
  }
 ],
 "metadata": {
  "kernelspec": {
   "display_name": "Python 3",
   "language": "python",
   "name": "python3"
  },
  "language_info": {
   "codemirror_mode": {
    "name": "ipython",
    "version": 2
   },
   "file_extension": ".py",
   "mimetype": "text/x-python",
   "name": "python",
   "nbconvert_exporter": "python",
   "pygments_lexer": "ipython2",
   "version": "2.7.6"
  }
 },
 "nbformat": 4,
 "nbformat_minor": 0
}